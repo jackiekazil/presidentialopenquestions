{
 "cells": [
  {
   "cell_type": "code",
   "execution_count": 1,
   "metadata": {
    "collapsed": true
   },
   "outputs": [],
   "source": [
    "from lxml import html\n",
    "import requests"
   ]
  },
  {
   "cell_type": "code",
   "execution_count": 2,
   "metadata": {
    "collapsed": false
   },
   "outputs": [],
   "source": [
    "url = 'https://presidentialopenquestions.com/'\n",
    "headers = {\n",
    "    'human': 'Jackie Kazil',\n",
    "    'human_twitter': '@jackiekazil',\n",
    "    'human_email': 'jackiekazil@gmail.com',\n",
    "    'notes': 'If this causes you issues, please contact me. I am pulling data \\\n",
    "              to release, so that people can group similar questions, before \\\n",
    "              debate.'\n",
    "}\n",
    "\n",
    "\n",
    "request = requests.get(url, headers=headers)"
   ]
  },
  {
   "cell_type": "code",
   "execution_count": 3,
   "metadata": {
    "collapsed": false
   },
   "outputs": [
    {
     "name": "stdout",
     "output_type": "stream",
     "text": [
      "<Response [200]>\n",
      "['__attrs__', '__bool__', '__class__', '__delattr__', '__dict__', '__dir__', '__doc__', '__eq__', '__format__', '__ge__', '__getattribute__', '__getstate__', '__gt__', '__hash__', '__init__', '__iter__', '__le__', '__lt__', '__module__', '__ne__', '__new__', '__nonzero__', '__reduce__', '__reduce_ex__', '__repr__', '__setattr__', '__setstate__', '__sizeof__', '__str__', '__subclasshook__', '__weakref__', '_content', '_content_consumed', 'apparent_encoding', 'close', 'connection', 'content', 'cookies', 'elapsed', 'encoding', 'headers', 'history', 'is_permanent_redirect', 'is_redirect', 'iter_content', 'iter_lines', 'json', 'links', 'ok', 'raise_for_status', 'raw', 'reason', 'request', 'status_code', 'text', 'url']\n",
      "<bound method Response.json of <Response [200]>>\n"
     ]
    }
   ],
   "source": [
    "print(request)\n",
    "print(dir(request))\n",
    "\n",
    "print(request.json)"
   ]
  },
  {
   "cell_type": "code",
   "execution_count": 4,
   "metadata": {
    "collapsed": false
   },
   "outputs": [],
   "source": [
    "tree = html.fromstring(request.content)"
   ]
  },
  {
   "cell_type": "code",
   "execution_count": 5,
   "metadata": {
    "collapsed": false
   },
   "outputs": [],
   "source": [
    "import dateparser\n",
    "\n",
    "def convert_datetime(x):\n",
    "    # example: 'Oct. 2, 2016, 10:13 p.m.'\n",
    "    x = dateparser.parse(x)\n",
    "    x = x.strftime('%Y-%m-%dT%H:%M:%S')\n",
    "    return x"
   ]
  },
  {
   "cell_type": "code",
   "execution_count": 6,
   "metadata": {
    "collapsed": false
   },
   "outputs": [],
   "source": [
    "questions = tree.xpath('//div[2]/p[1]/strong/a/text()')\n",
    "q_paths = tree.xpath('//div[2]/p[1]/strong/a/@href')\n",
    "count = tree.xpath('//div[1]/div[1]/span/text()')\n",
    "submitters = tree.xpath('//div[3]/strong/text()')\n",
    "\n",
    "idea_infos = [x.strip('\\n').strip() for x in tree.xpath('//div[3]/text()')]\n",
    "idea_dates = [x for x in idea_infos if x not in ['', 'Submitted by:', 'Issue area:']]\n",
    "idea_dates = [convert_datetime(x) for x in idea_dates]\n",
    "\n",
    "issue_areas = tree.xpath('//div[3]/a/strong/text()')\n",
    "issue_paths = tree.xpath('//div[3]/a/@href')"
   ]
  },
  {
   "cell_type": "code",
   "execution_count": 14,
   "metadata": {
    "collapsed": false
   },
   "outputs": [
    {
     "data": {
      "text/plain": [
       "{'issue_area': 'Civil Rights',\n",
       " 'issue_path': '/category/3/',\n",
       " 'question': 'What would you do to protect disabled people from abusive treatments?',\n",
       " 'question_path': '/questions/11494/vote/',\n",
       " 'submission_date': '2016-10-03T22:09:00',\n",
       " 'submitter_location': 'NY',\n",
       " 'submitters': 'Eirene A.',\n",
       " 'vote_count': '18'}"
      ]
     },
     "execution_count": 14,
     "metadata": {},
     "output_type": "execute_result"
    }
   ],
   "source": [
    "import json\n",
    "\n",
    "data = []\n",
    "zip_data = zip(questions, q_paths, count, submitters, idea_dates, issue_areas, issue_paths)\n",
    "for a, b, c, d, e, f, g in zip_data:\n",
    "    submit_info = [x.strip() for x in d.split('from')]\n",
    "    \n",
    "    submitter = submit_info[0]\n",
    "    if len(submit_info) > 1: \n",
    "        location = submit_info[1]\n",
    "    else: \n",
    "        location = None\n",
    "    \n",
    "    record = {\n",
    "        'question': a,\n",
    "        'question_path': b,\n",
    "        'vote_count': c, \n",
    "        'submitters': submit_info[0],\n",
    "        'submitter_location': submit_info[1],\n",
    "        'submission_date': e,\n",
    "        'issue_area': f, \n",
    "        'issue_path': g,\n",
    "    }\n",
    "    data.append(record)\n",
    "\n",
    "data[0]"
   ]
  },
  {
   "cell_type": "code",
   "execution_count": 15,
   "metadata": {
    "collapsed": false
   },
   "outputs": [
    {
     "name": "stdout",
     "output_type": "stream",
     "text": [
      "[{'issue_area': 'Civil Rights',\n",
      "  'issue_path': '/category/3/',\n",
      "  'question': 'What would you do to protect disabled people from abusive '\n",
      "              'treatments?',\n",
      "  'question_path': '/questions/11494/vote/',\n",
      "  'submission_date': '2016-10-03T22:09:00',\n",
      "  'submitter_location': 'NY',\n",
      "  'submitters': 'Eirene A.',\n",
      "  'vote_count': '18'},\n",
      " {'issue_area': 'Society & Community',\n",
      "  'issue_path': '/category/2/',\n",
      "  'question': 'Would you take any steps to combat online abuse/internet '\n",
      "              'trolling?',\n",
      "  'question_path': '/questions/8222/vote/',\n",
      "  'submission_date': '2016-09-30T00:46:00',\n",
      "  'submitter_location': 'CA',\n",
      "  'submitters': 'diana p.',\n",
      "  'vote_count': '18'},\n",
      " {'issue_area': 'Government & Elections',\n",
      "  'issue_path': '/category/10/',\n",
      "  'question': 'Do you support a direct democracy system?',\n",
      "  'question_path': '/questions/17012/vote/',\n",
      "  'submission_date': '2016-10-07T21:34:00',\n",
      "  'submitter_location': 'WA',\n",
      "  'submitters': 'Joshua M.',\n",
      "  'vote_count': '9'},\n",
      " {'issue_area': 'Civil Rights',\n",
      "  'issue_path': '/category/7/',\n",
      "  'question': 'How are you going to defend Muslim Americans from racial '\n",
      "              'discrimination? ',\n",
      "  'question_path': '/questions/6667/vote/',\n",
      "  'submission_date': '2016-09-29T07:07:00',\n",
      "  'submitter_location': 'LA',\n",
      "  'submitters': 'Anika A.',\n",
      "  'vote_count': '81'},\n",
      " {'issue_area': 'Government & Elections',\n",
      "  'issue_path': '/category/2/',\n",
      "  'question': '\\tWhat remedy would you support if hackers disrupt the election '\n",
      "              'on November 8?\\r\\n'\n",
      "              '\\r\\n',\n",
      "  'question_path': '/questions/19068/vote/',\n",
      "  'submission_date': '2016-10-09T09:43:00',\n",
      "  'submitter_location': 'NY',\n",
      "  'submitters': 'Denkof Z.',\n",
      "  'vote_count': '2'},\n",
      " {'issue_area': 'Society & Community',\n",
      "  'issue_path': '/category/7/',\n",
      "  'question': 'What will you do to repel the current overly sensitive culture '\n",
      "              'of \"safe spaces\"?',\n",
      "  'question_path': '/questions/11566/vote/',\n",
      "  'submission_date': '2016-10-04T00:05:00',\n",
      "  'submitter_location': 'TX',\n",
      "  'submitters': 'Melvin M.',\n",
      "  'vote_count': '13'},\n",
      " {'issue_area': 'Economy & Jobs',\n",
      "  'issue_path': '/category/10/',\n",
      "  'question': 'How is your plan for the economy different from the Obama plan?',\n",
      "  'question_path': '/questions/11783/vote/',\n",
      "  'submission_date': '2016-10-04T11:02:00',\n",
      "  'submitter_location': 'ME',\n",
      "  'submitters': 'Maurice B.',\n",
      "  'vote_count': '29'},\n",
      " {'issue_area': 'Government & Elections',\n",
      "  'issue_path': '/category/3/',\n",
      "  'question': 'Please, create Term Limits AND Recall for every level of '\n",
      "              'politician AND judge?',\n",
      "  'question_path': '/questions/1948/vote/',\n",
      "  'submission_date': '2016-09-27T14:47:00',\n",
      "  'submitter_location': 'MA',\n",
      "  'submitters': 'John M.',\n",
      "  'vote_count': '113'},\n",
      " {'issue_area': 'Government & Elections',\n",
      "  'issue_path': '/category/7/',\n",
      "  'question': 'Do you support an independent Medical exam for all candidates '\n",
      "              'to be mandatory>?',\n",
      "  'question_path': '/questions/17936/vote/',\n",
      "  'submission_date': '2016-10-08T13:57:00',\n",
      "  'submitter_location': 'NJ',\n",
      "  'submitters': 'Don B.',\n",
      "  'vote_count': '3'},\n",
      " {'issue_area': 'Taxes & Budget',\n",
      "  'issue_path': '/category/7/',\n",
      "  'question': 'What is your plan to guarantee that millennials will be able to '\n",
      "              'retire one day?',\n",
      "  'question_path': '/questions/6289/vote/',\n",
      "  'submission_date': '2016-09-28T20:52:00',\n",
      "  'submitter_location': 'SD',\n",
      "  'submitters': 'Ben H.',\n",
      "  'vote_count': '41'},\n",
      " {'issue_area': 'Society & Community',\n",
      "  'issue_path': '/category/11/',\n",
      "  'question': 'Exactly how will you enact reasonable gun control laws?',\n",
      "  'question_path': '/questions/14709/vote/',\n",
      "  'submission_date': '2016-10-07T00:37:00',\n",
      "  'submitter_location': 'MD',\n",
      "  'submitters': 'Buddy C.',\n",
      "  'vote_count': '8'},\n",
      " {'issue_area': 'Government & Elections',\n",
      "  'issue_path': '/category/10/',\n",
      "  'question': 'What will you do to work with the states to allow open and fair '\n",
      "              'election process',\n",
      "  'question_path': '/questions/279/vote/',\n",
      "  'submission_date': '2016-09-27T11:04:00',\n",
      "  'submitter_location': 'VT',\n",
      "  'submitters': 'Sage L.',\n",
      "  'vote_count': '346'},\n",
      " {'issue_area': 'Economy & Jobs',\n",
      "  'issue_path': '/category/7/',\n",
      "  'question': 'What are the pro\\'s and con\\'s of \"Trickle-Down\" economics, '\n",
      "              'would it work for us?',\n",
      "  'question_path': '/questions/10742/vote/',\n",
      "  'submission_date': '2016-10-03T09:52:00',\n",
      "  'submitter_location': 'MO',\n",
      "  'submitters': 'Chad N.',\n",
      "  'vote_count': '14'},\n",
      " {'issue_area': 'Taxes & Budget',\n",
      "  'issue_path': '/category/3/',\n",
      "  'question': 'Would you support abolishing the IRS & levy taxes \"in '\n",
      "              'proportion to the census?\"',\n",
      "  'question_path': '/questions/13031/vote/',\n",
      "  'submission_date': '2016-10-05T17:23:00',\n",
      "  'submitter_location': 'NY',\n",
      "  'submitters': 'MARC P.',\n",
      "  'vote_count': '3'},\n",
      " {'issue_area': 'Foreign Policy & Military',\n",
      "  'issue_path': '/category/11/',\n",
      "  'question': 'Kashmir',\n",
      "  'question_path': '/questions/8413/vote/',\n",
      "  'submission_date': '2016-09-30T07:52:00',\n",
      "  'submitter_location': 'PA',\n",
      "  'submitters': 'Laurie P.',\n",
      "  'vote_count': '12'},\n",
      " {'issue_area': 'Government & Elections',\n",
      "  'issue_path': '/category/6/',\n",
      "  'question': 'how to correct deportation error that permitted citizenship?',\n",
      "  'question_path': '/questions/14010/vote/',\n",
      "  'submission_date': '2016-10-06T16:13:00',\n",
      "  'submitter_location': 'NY',\n",
      "  'submitters': 'Daniel M.',\n",
      "  'vote_count': '11'},\n",
      " {'issue_area': 'Health',\n",
      "  'issue_path': '/category/7/',\n",
      "  'question': 'If a US citizen develops a heartbeat must the Government '\n",
      "              'protect him/her?',\n",
      "  'question_path': '/questions/14520/vote/',\n",
      "  'submission_date': '2016-10-06T22:54:00',\n",
      "  'submitter_location': 'MD',\n",
      "  'submitters': 'Frederick V.',\n",
      "  'vote_count': '5'},\n",
      " {'issue_area': 'Economy & Jobs',\n",
      "  'issue_path': '/category/8/',\n",
      "  'question': 'How are you going to change ACA to fix it as it collapses? ',\n",
      "  'question_path': '/questions/3832/vote/',\n",
      "  'submission_date': '2016-09-27T20:43:00',\n",
      "  'submitter_location': 'FL',\n",
      "  'submitters': 'Aysha M.',\n",
      "  'vote_count': '41'},\n",
      " {'issue_area': 'Health',\n",
      "  'issue_path': '/category/3/',\n",
      "  'question': \"How come the cost of living hasn't been adjusted properly for \"\n",
      "              'ss and disability ',\n",
      "  'question_path': '/questions/18565/vote/',\n",
      "  'submission_date': '2016-10-08T19:51:00',\n",
      "  'submitter_location': 'TX',\n",
      "  'submitters': 'Dennis P.',\n",
      "  'vote_count': '8'},\n",
      " {'issue_area': 'Civil Rights',\n",
      "  'issue_path': '/category/8/',\n",
      "  'question': 'What criteria will you use for Supreme Court nominees and why?',\n",
      "  'question_path': '/questions/471/vote/',\n",
      "  'submission_date': '2016-09-27T11:34:00',\n",
      "  'submitter_location': 'TN',\n",
      "  'submitters': 'Jennifer P.',\n",
      "  'vote_count': '12496'},\n",
      " {'issue_area': 'Foreign Policy & Military',\n",
      "  'issue_path': '/category/2/',\n",
      "  'question': 'Will You Cut The Bloated Military Budget?',\n",
      "  'question_path': '/questions/17512/vote/',\n",
      "  'submission_date': '2016-10-08T10:39:00',\n",
      "  'submitter_location': 'NY',\n",
      "  'submitters': 'Peter L.',\n",
      "  'vote_count': '6'},\n",
      " {'issue_area': 'Civil Rights',\n",
      "  'issue_path': '/category/6/',\n",
      "  'question': 'How will you protect the American people from abuses of federal '\n",
      "              'power?',\n",
      "  'question_path': '/questions/3401/vote/',\n",
      "  'submission_date': '2016-09-27T18:51:00',\n",
      "  'submitter_location': 'TN',\n",
      "  'submitters': 'Stewart M.',\n",
      "  'vote_count': '71'},\n",
      " {'issue_area': 'Economy & Jobs',\n",
      "  'issue_path': '/category/2/',\n",
      "  'question': 'Disabled are last ones hired; first ones let go.  Immigration '\n",
      "              'is the problem.',\n",
      "  'question_path': '/questions/4208/vote/',\n",
      "  'submission_date': '2016-09-27T22:57:00',\n",
      "  'submitter_location': 'CO',\n",
      "  'submitters': 'jm f.',\n",
      "  'vote_count': '92'},\n",
      " {'issue_area': 'Taxes & Budget',\n",
      "  'issue_path': '/category/3/',\n",
      "  'question': 'What is your average federal tax rate for the past 3 yrs. ',\n",
      "  'question_path': '/questions/13422/vote/',\n",
      "  'submission_date': '2016-10-06T02:18:00',\n",
      "  'submitter_location': 'CA',\n",
      "  'submitters': 'Kwame P.',\n",
      "  'vote_count': '7'},\n",
      " {'issue_area': 'Economy & Jobs',\n",
      "  'issue_path': '/category/11/',\n",
      "  'question': 'Do you support a revenue-neutral, border adjusted carbon tax?',\n",
      "  'question_path': '/questions/16014/vote/',\n",
      "  'submission_date': '2016-10-07T14:48:00',\n",
      "  'submitter_location': 'CA',\n",
      "  'submitters': 'Dadla P.',\n",
      "  'vote_count': '6'}]\n"
     ]
    }
   ],
   "source": [
    "import json\n",
    "#with open('data.txt', 'w') as outfile:\n",
    "    #json.dump(data, outfile)\n",
    "    \n",
    "import pprint\n",
    "pprint.pprint(data)"
   ]
  },
  {
   "cell_type": "code",
   "execution_count": null,
   "metadata": {
    "collapsed": true
   },
   "outputs": [],
   "source": []
  },
  {
   "cell_type": "code",
   "execution_count": null,
   "metadata": {
    "collapsed": true
   },
   "outputs": [],
   "source": []
  }
 ],
 "metadata": {
  "kernelspec": {
   "display_name": "Python 3",
   "language": "python",
   "name": "python3"
  },
  "language_info": {
   "codemirror_mode": {
    "name": "ipython",
    "version": 3
   },
   "file_extension": ".py",
   "mimetype": "text/x-python",
   "name": "python",
   "nbconvert_exporter": "python",
   "pygments_lexer": "ipython3",
   "version": "3.5.1"
  }
 },
 "nbformat": 4,
 "nbformat_minor": 1
}
