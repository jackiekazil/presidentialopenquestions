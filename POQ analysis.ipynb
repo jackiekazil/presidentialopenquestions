{
 "cells": [
  {
   "cell_type": "markdown",
   "metadata": {
    "toc": "true"
   },
   "source": [
    "# Table of Contents\n",
    " <p><div class=\"lev1 toc-item\"><a href=\"#Presidential-Debate-Open-Questions-Analysis\" data-toc-modified-id=\"Presidential-Debate-Open-Questions-Analysis-1\"><span class=\"toc-item-num\">1&nbsp;&nbsp;</span>Presidential Debate Open Questions Analysis</a></div><div class=\"lev2 toc-item\"><a href=\"#Preprocessing\" data-toc-modified-id=\"Preprocessing-1.1\"><span class=\"toc-item-num\">1.1&nbsp;&nbsp;</span>Preprocessing</a></div><div class=\"lev3 toc-item\"><a href=\"#Data-cleaning\" data-toc-modified-id=\"Data-cleaning-1.1.1\"><span class=\"toc-item-num\">1.1.1&nbsp;&nbsp;</span>Data cleaning</a></div><div class=\"lev2 toc-item\"><a href=\"#Create-DataFrame-for-Questions-by-State-Analysis\" data-toc-modified-id=\"Create-DataFrame-for-Questions-by-State-Analysis-1.2\"><span class=\"toc-item-num\">1.2&nbsp;&nbsp;</span>Create DataFrame for Questions-by-State Analysis</a></div><div class=\"lev2 toc-item\"><a href=\"#Extract-and-Save-Corpora\" data-toc-modified-id=\"Extract-and-Save-Corpora-1.3\"><span class=\"toc-item-num\">1.3&nbsp;&nbsp;</span>Extract and Save Corpora</a></div><div class=\"lev2 toc-item\"><a href=\"#Phrase-Modeling\" data-toc-modified-id=\"Phrase-Modeling-1.4\"><span class=\"toc-item-num\">1.4&nbsp;&nbsp;</span>Phrase Modeling</a></div><div class=\"lev3 toc-item\"><a href=\"#Apply-our-first-order-phrase-model-to-join-word-pairs\" data-toc-modified-id=\"Apply-our-first-order-phrase-model-to-join-word-pairs-1.4.1\"><span class=\"toc-item-num\">1.4.1&nbsp;&nbsp;</span>Apply our first-order phrase model to join word pairs</a></div><div class=\"lev3 toc-item\"><a href=\"#Applying-our-second-order-phrase-model-to-join-longer-phrases\" data-toc-modified-id=\"Applying-our-second-order-phrase-model-to-join-longer-phrases-1.4.2\"><span class=\"toc-item-num\">1.4.2&nbsp;&nbsp;</span>Applying our second-order phrase model to join longer phrases</a></div><div class=\"lev3 toc-item\"><a href=\"#Remove-stopwords\" data-toc-modified-id=\"Remove-stopwords-1.4.3\"><span class=\"toc-item-num\">1.4.3&nbsp;&nbsp;</span>Remove stopwords</a></div><div class=\"lev3 toc-item\"><a href=\"#Add-final-corpus-to-grouped-by-states-and-submitters-DataFrames\" data-toc-modified-id=\"Add-final-corpus-to-grouped-by-states-and-submitters-DataFrames-1.4.4\"><span class=\"toc-item-num\">1.4.4&nbsp;&nbsp;</span>Add final corpus to grouped-by states and submitters DataFrames</a></div><div class=\"lev2 toc-item\"><a href=\"#Export-DataFrames\" data-toc-modified-id=\"Export-DataFrames-1.5\"><span class=\"toc-item-num\">1.5&nbsp;&nbsp;</span>Export DataFrames</a></div><div class=\"lev2 toc-item\"><a href=\"#Topic-Modeling-with-Latent-Dirichlet-Allocation-(LDA)\" data-toc-modified-id=\"Topic-Modeling-with-Latent-Dirichlet-Allocation-(LDA)-1.6\"><span class=\"toc-item-num\">1.6&nbsp;&nbsp;</span>Topic Modeling with Latent Dirichlet Allocation (LDA)</a></div><div class=\"lev3 toc-item\"><a href=\"#Parameters-to-tweak-for-LDA\" data-toc-modified-id=\"Parameters-to-tweak-for-LDA-1.6.1\"><span class=\"toc-item-num\">1.6.1&nbsp;&nbsp;</span>Parameters to tweak for LDA</a></div><div class=\"lev3 toc-item\"><a href=\"#Create-a-bag-of-words-representation\" data-toc-modified-id=\"Create-a-bag-of-words-representation-1.6.2\"><span class=\"toc-item-num\">1.6.2&nbsp;&nbsp;</span>Create a bag-of-words representation</a></div><div class=\"lev3 toc-item\"><a href=\"#Implement-LDA-topic-modeling\" data-toc-modified-id=\"Implement-LDA-topic-modeling-1.6.3\"><span class=\"toc-item-num\">1.6.3&nbsp;&nbsp;</span>Implement LDA topic modeling</a></div><div class=\"lev2 toc-item\"><a href=\"#Visualzing-topics-with-pyLDAviz\" data-toc-modified-id=\"Visualzing-topics-with-pyLDAviz-1.7\"><span class=\"toc-item-num\">1.7&nbsp;&nbsp;</span>Visualzing topics with pyLDAviz</a></div>"
   ]
  },
  {
   "cell_type": "markdown",
   "metadata": {},
   "source": [
    "# Presidential Debate Open Questions Analysis\n",
    "\n",
    "Scraped from [Presidential Debate Open Questions][1] after debate October 9, 2016 at 11pm\n",
    "\n",
    "Instructions for contributors, login required to post:\n",
    "\n",
    "<img src=\"./images/poq_instructions_screenshot.jpg\" \n",
    "alt=\"instructions screenshot\" align=\"left\"/>\n",
    "\n",
    "[1]:https://presidentialopenquestions.com/watch/"
   ]
  },
  {
   "cell_type": "markdown",
   "metadata": {},
   "source": [
    "Exported DataFrames of data preprocessed in this notebook can be accessed elsewhere with:\n",
    "```python\n",
    "pd.read_csv('./exported/questions_by_submitter_df_export.txt', index_col=0)\n",
    "pd.read_csv('./exported/questions_by_state_df_export.txt', index_col=0)\n",
    "```"
   ]
  },
  {
   "cell_type": "code",
   "execution_count": 1,
   "metadata": {
    "collapsed": false,
    "run_control": {
     "marked": false
    }
   },
   "outputs": [
    {
     "data": {
      "text/html": [
       "<div>\n",
       "<table border=\"1\" class=\"dataframe\">\n",
       "  <thead>\n",
       "    <tr style=\"text-align: right;\">\n",
       "      <th></th>\n",
       "      <th>start date</th>\n",
       "      <th>end date</th>\n",
       "      <th>date range</th>\n",
       "    </tr>\n",
       "  </thead>\n",
       "  <tbody>\n",
       "    <tr>\n",
       "      <th>0</th>\n",
       "      <td>2016-10-09 19:31:00</td>\n",
       "      <td>2016-09-26 12:41:00</td>\n",
       "      <td>13 days 06:50:00</td>\n",
       "    </tr>\n",
       "  </tbody>\n",
       "</table>\n",
       "</div>"
      ],
      "text/plain": [
       "           start date            end date       date range\n",
       "0 2016-10-09 19:31:00 2016-09-26 12:41:00 13 days 06:50:00"
      ]
     },
     "metadata": {},
     "output_type": "display_data"
    },
    {
     "data": {
      "text/html": [
       "<div>\n",
       "<table border=\"1\" class=\"dataframe\">\n",
       "  <thead>\n",
       "    <tr style=\"text-align: right;\">\n",
       "      <th></th>\n",
       "      <th>issue_area</th>\n",
       "      <th>question</th>\n",
       "      <th>submission_date</th>\n",
       "      <th>submitter_location</th>\n",
       "      <th>submitters</th>\n",
       "      <th>vote_count</th>\n",
       "    </tr>\n",
       "  </thead>\n",
       "  <tbody>\n",
       "    <tr>\n",
       "      <th>0</th>\n",
       "      <td>Economy &amp; Jobs</td>\n",
       "      <td>What, if anything, do you plan to do to ensure...</td>\n",
       "      <td>2016-10-09 18:51:00</td>\n",
       "      <td>CT</td>\n",
       "      <td>Stephanie C.</td>\n",
       "      <td>1</td>\n",
       "    </tr>\n",
       "    <tr>\n",
       "      <th>1</th>\n",
       "      <td>Society &amp; Community</td>\n",
       "      <td>Funding for more police officers and better tr...</td>\n",
       "      <td>2016-10-09 19:28:00</td>\n",
       "      <td>FL</td>\n",
       "      <td>Donna T.</td>\n",
       "      <td>1</td>\n",
       "    </tr>\n",
       "    <tr>\n",
       "      <th>2</th>\n",
       "      <td>Civil Rights</td>\n",
       "      <td>Can you change the FCCâs news distortion po...</td>\n",
       "      <td>2016-10-09 17:44:00</td>\n",
       "      <td>NV</td>\n",
       "      <td>jim m.</td>\n",
       "      <td>1</td>\n",
       "    </tr>\n",
       "    <tr>\n",
       "      <th>3</th>\n",
       "      <td>Foreign Policy &amp; Military</td>\n",
       "      <td>What would any of you think the passing of \"JA...</td>\n",
       "      <td>2016-10-08 12:52:00</td>\n",
       "      <td>TX</td>\n",
       "      <td>Edgar G.</td>\n",
       "      <td>1</td>\n",
       "    </tr>\n",
       "    <tr>\n",
       "      <th>4</th>\n",
       "      <td>Health</td>\n",
       "      <td>Would you commit to ending the Cadillac Tax on...</td>\n",
       "      <td>2016-10-08 13:28:00</td>\n",
       "      <td>NY</td>\n",
       "      <td>Ken W.</td>\n",
       "      <td>1</td>\n",
       "    </tr>\n",
       "  </tbody>\n",
       "</table>\n",
       "</div>"
      ],
      "text/plain": [
       "                  issue_area  \\\n",
       "0             Economy & Jobs   \n",
       "1        Society & Community   \n",
       "2               Civil Rights   \n",
       "3  Foreign Policy & Military   \n",
       "4                     Health   \n",
       "\n",
       "                                            question     submission_date  \\\n",
       "0  What, if anything, do you plan to do to ensure... 2016-10-09 18:51:00   \n",
       "1  Funding for more police officers and better tr... 2016-10-09 19:28:00   \n",
       "2   Can you change the FCCâs news distortion po... 2016-10-09 17:44:00   \n",
       "3  What would any of you think the passing of \"JA... 2016-10-08 12:52:00   \n",
       "4  Would you commit to ending the Cadillac Tax on... 2016-10-08 13:28:00   \n",
       "\n",
       "  submitter_location    submitters  vote_count  \n",
       "0                 CT  Stephanie C.           1  \n",
       "1                 FL      Donna T.           1  \n",
       "2                 NV        jim m.           1  \n",
       "3                 TX      Edgar G.           1  \n",
       "4                 NY        Ken W.           1  "
      ]
     },
     "metadata": {},
     "output_type": "display_data"
    },
    {
     "data": {
      "text/html": [
       "<div>\n",
       "<table border=\"1\" class=\"dataframe\">\n",
       "  <thead>\n",
       "    <tr style=\"text-align: right;\">\n",
       "      <th></th>\n",
       "      <th>issue_area</th>\n",
       "      <th>question</th>\n",
       "      <th>submission_date</th>\n",
       "      <th>submitter_location</th>\n",
       "      <th>submitters</th>\n",
       "      <th>vote_count</th>\n",
       "    </tr>\n",
       "  </thead>\n",
       "  <tbody>\n",
       "    <tr>\n",
       "      <th>15885</th>\n",
       "      <td>Education</td>\n",
       "      <td>Explain why greed is In  business and educatio...</td>\n",
       "      <td>2016-10-09 16:48:00</td>\n",
       "      <td>MA</td>\n",
       "      <td>Mark B.</td>\n",
       "      <td>1</td>\n",
       "    </tr>\n",
       "    <tr>\n",
       "      <th>15886</th>\n",
       "      <td>Health</td>\n",
       "      <td>What are your thoughts on abortion?</td>\n",
       "      <td>2016-10-09 19:25:00</td>\n",
       "      <td>SD</td>\n",
       "      <td>Jerricka T.</td>\n",
       "      <td>1</td>\n",
       "    </tr>\n",
       "    <tr>\n",
       "      <th>15887</th>\n",
       "      <td>Foreign Policy &amp; Military</td>\n",
       "      <td>How will you defeat ISIS and protect the USA f...</td>\n",
       "      <td>2016-10-09 18:59:00</td>\n",
       "      <td>FL</td>\n",
       "      <td>Chuck B.</td>\n",
       "      <td>1</td>\n",
       "    </tr>\n",
       "    <tr>\n",
       "      <th>15888</th>\n",
       "      <td>Society &amp; Community</td>\n",
       "      <td>Other than immigration, what issue is your nex...</td>\n",
       "      <td>2016-10-09 18:13:00</td>\n",
       "      <td>NV</td>\n",
       "      <td>Maria P.</td>\n",
       "      <td>1</td>\n",
       "    </tr>\n",
       "    <tr>\n",
       "      <th>15889</th>\n",
       "      <td>Foreign Policy &amp; Military</td>\n",
       "      <td>What will you do to ensure a truly sovereign a...</td>\n",
       "      <td>2016-10-09 17:48:00</td>\n",
       "      <td>IL</td>\n",
       "      <td>Peter R.</td>\n",
       "      <td>1</td>\n",
       "    </tr>\n",
       "  </tbody>\n",
       "</table>\n",
       "</div>"
      ],
      "text/plain": [
       "                      issue_area  \\\n",
       "15885                  Education   \n",
       "15886                     Health   \n",
       "15887  Foreign Policy & Military   \n",
       "15888        Society & Community   \n",
       "15889  Foreign Policy & Military   \n",
       "\n",
       "                                                question     submission_date  \\\n",
       "15885  Explain why greed is In  business and educatio... 2016-10-09 16:48:00   \n",
       "15886               What are your thoughts on abortion?  2016-10-09 19:25:00   \n",
       "15887  How will you defeat ISIS and protect the USA f... 2016-10-09 18:59:00   \n",
       "15888  Other than immigration, what issue is your nex... 2016-10-09 18:13:00   \n",
       "15889  What will you do to ensure a truly sovereign a... 2016-10-09 17:48:00   \n",
       "\n",
       "      submitter_location   submitters  vote_count  \n",
       "15885                 MA      Mark B.           1  \n",
       "15886                 SD  Jerricka T.           1  \n",
       "15887                 FL     Chuck B.           1  \n",
       "15888                 NV     Maria P.           1  \n",
       "15889                 IL     Peter R.           1  "
      ]
     },
     "metadata": {},
     "output_type": "display_data"
    }
   ],
   "source": [
    "import codecs\n",
    "import json\n",
    "from pprint import pprint\n",
    "from IPython.display import display\n",
    "import pandas as pd\n",
    "import string, os\n",
    "\n",
    "with open('data/data_20161016_2159_all.json') as f:    \n",
    "    data = json.load(f)\n",
    "    \n",
    "df = pd.DataFrame(data)\n",
    "df = df.drop(['issue_path', 'question_path'], axis=1)\n",
    "df['submission_date'] = pd.to_datetime(df['submission_date'])\n",
    "df['submitter_location'].fillna('None', inplace=True)\n",
    "\n",
    "start_date = df['submission_date'].max()\n",
    "end_date = df['submission_date'].min()\n",
    "date_range = start_date - end_date\n",
    "display(pd.DataFrame([[start_date, end_date, date_range]], \n",
    "                     columns=['start date', 'end date', 'date range']))\n",
    "\n",
    "display(df.head(3))\n",
    "display(df.tail(3))"
   ]
  },
  {
   "cell_type": "code",
   "execution_count": 2,
   "metadata": {
    "collapsed": false
   },
   "outputs": [
    {
     "data": {
      "image/png": "[encoded data removed]",
      "text/plain": [
       "<matplotlib.figure.Figure at 0x11692ef98>"
      ]
     },
     "metadata": {},
     "output_type": "display_data"
    },
    {
     "name": "stdout",
     "output_type": "stream",
     "text": [
      "alpha=  1.25169123624   sigma=  0.00199666932227\n"
     ]
    }
   ],
   "source": [
    "%matplotlib inline\n",
    "import matplotlib.pyplot as plt\n",
    "import powerlaw\n",
    "import numpy as np\n",
    "\n",
    "fit = powerlaw.Fit(np.array(df['vote_count'])+1,xmin=1,discrete=True)\n",
    "fit.power_law.plot_pdf( color= 'b',linestyle='--',label='fit ccdf')\n",
    "fit.plot_pdf(color= 'b')\n",
    "plt.show()\n",
    "\n",
    "print('alpha= ',fit.power_law.alpha,'  sigma= ',fit.power_law.sigma)"
   ]
  },
  {
   "cell_type": "markdown",
   "metadata": {},
   "source": [
    "## Preprocessing"
   ]
  },
  {
   "cell_type": "markdown",
   "metadata": {},
   "source": [
    "### Data cleaning"
   ]
  },
  {
   "cell_type": "code",
   "execution_count": 3,
   "metadata": {
    "collapsed": true
   },
   "outputs": [],
   "source": [
    "from copy import deepcopy\n",
    "# df_original = deepcopy(df)  # for reference, can comment out"
   ]
  },
  {
   "cell_type": "code",
   "execution_count": 4,
   "metadata": {
    "collapsed": false,
    "scrolled": true
   },
   "outputs": [
    {
     "name": "stdout",
     "output_type": "stream",
     "text": [
      "... dropped 27 exact duplicates.\n",
      "total questions: 15863\n",
      "total votes: 3462952\n",
      "\n",
      "total duplicate questions: 217 (1.37%)\n",
      "votes across duplicate questions: 161241 (4.66%)\n",
      "\n",
      "duplicate questions with differing states: 54 (0.34%)\n",
      "votes across duplicate questions with differing states: 155847 (4.50%)\n"
     ]
    }
   ],
   "source": [
    "# drop exact duplicates, likely there from over-scraping\n",
    "n_exact_dupes = sum(df.duplicated())\n",
    "df = df.drop_duplicates().reset_index(drop=True)\n",
    "print('... dropped {} exact duplicates.'\n",
    "      .format(n_exact_dupes))\n",
    "\n",
    "# summary of duplicate information\n",
    "sum_questions = len(df)\n",
    "print('total questions: {}'.format(sum_questions))\n",
    "\n",
    "sum_all_votes = df['vote_count'].sum()\n",
    "print('total votes: {}'.format(sum_all_votes))\n",
    "\n",
    "print()\n",
    "\n",
    "# total votes for dupes, relevant for vote-question, state-agnostic analysis\n",
    "are_duplicates = df.duplicated('question', keep=False)\n",
    "n_dupes = sum(are_duplicates)\n",
    "print('total duplicate questions: {} ({:.2%})'.format(\n",
    "       n_dupes, n_dupes/sum_questions))\n",
    "\n",
    "sum_dupe_votes = sum(df.loc[are_duplicates, 'vote_count'])\n",
    "print('votes across duplicate questions: {} ({:.2%})'.format(\n",
    "       sum_dupe_votes, sum_dupe_votes/sum_all_votes))\n",
    "print()\n",
    "\n",
    "# total votes for dupes that split across two or more states, relevant if \n",
    "# votes for questions are compared on a state-by-state basis\n",
    "are_duped_by_question = df.duplicated('question', keep=False)\n",
    "are_duped_by_q_and_state = df.duplicated(['question', 'submitter_location'],\n",
    "                                         keep=False)\n",
    "are_duped_with_diff_states = are_duped_by_question ^ are_duped_by_q_and_state\n",
    "\n",
    "n_dupes_diff_states = (sum(are_duped_with_diff_states))\n",
    "print('duplicate questions with differing states: {} ({:.2%})'.format(\n",
    "       n_dupes_diff_states, \n",
    "       n_dupes_diff_states/sum_questions))\n",
    "\n",
    "sum_dupe_votes_diff_states = sum(df.loc[are_duped_with_diff_states, \n",
    "                                        'vote_count'])\n",
    "print('votes across duplicate questions with differing states: {} ({:.2%})'.format(\n",
    "       sum_dupe_votes_diff_states, sum_dupe_votes_diff_states/sum_all_votes))"
   ]
  },
  {
   "cell_type": "markdown",
   "metadata": {},
   "source": [
    "NOTE: These duplicates will impact aggregate-vote analysis!"
   ]
  },
  {
   "cell_type": "markdown",
   "metadata": {},
   "source": [
    "## Create DataFrame for Questions-by-State Analysis"
   ]
  },
  {
   "cell_type": "code",
   "execution_count": 5,
   "metadata": {
    "collapsed": false
   },
   "outputs": [],
   "source": [
    "def qs_for_state(questions_df, state, q_col):\n",
    "    '''\n",
    "    generator function that yields unescaped \n",
    "    questions for a given state.\n",
    "    '''\n",
    "    \n",
    "    df = questions_df\n",
    "    for i, row in df[df['submitter_location']==state].iterrows():\n",
    "        q = row[q_col]\n",
    "        q = q.replace('\\n', ' ')\n",
    "        q = q.replace('\\r', ' ')\n",
    "        yield q + '\\n'  # normalized to one line per question\n",
    "\n",
    "def states_q_data(questions_df, states, q_col):\n",
    "    '''\n",
    "    generator function that yields document\n",
    "    of questions that originate from a \n",
    "    given state.\n",
    "    '''\n",
    "        \n",
    "    for state in states:\n",
    "        yield (state, ' '.join(qs_for_state(questions_df, state, q_col)))\n",
    "\n",
    "def combine_qs_for_states(source_df, states_list, \n",
    "                          incl_none=True, q_col='question'):\n",
    "    '''\n",
    "    constructs new Dataframe with each row\n",
    "    consisting of a state column and a column\n",
    "    for all questions from that state combined\n",
    "    into a single document.\n",
    "    '''\n",
    "    if incl_none and 'None' not in states_list:\n",
    "        states_list += ['None']\n",
    "    \n",
    "    combined_qs = pd.DataFrame(states_q_data(source_df, states_list, q_col), \n",
    "                               columns=['state', q_col])\n",
    "    combined_qs = combined_qs.set_index('state')\n",
    "    \n",
    "    return combined_qs"
   ]
  },
  {
   "cell_type": "code",
   "execution_count": 6,
   "metadata": {
    "collapsed": false
   },
   "outputs": [],
   "source": [
    "data_directory = os.path.join('.', 'data')\n",
    "states_data_filepath = os.path.join(data_directory,\n",
    "                                    'state_combined_list.json')\n",
    "\n",
    "with open(states_data_filepath) as f:    \n",
    "        states_data = json.load(f)\n",
    "\n",
    "# new df with state info\n",
    "df_states = pd.DataFrame(states_data,\n",
    "                         columns=['state', 'adult_pop', 'partisanship'])\n",
    "df_states = df_states.set_index('state')\n",
    "\n",
    "# add column for question count for each state\n",
    "df_states = df_states.join(df['submitter_location'].value_counts())\n",
    "df_states.columns = (df_states.columns\n",
    "                     .str.replace('submitter_location','q_count'))\n",
    "\n",
    "# add column for document of all questions from a state (combined)\n",
    "df_states = df_states.join(\n",
    "    combine_qs_for_states(df, list(df_states.index)), how='right')"
   ]
  },
  {
   "cell_type": "markdown",
   "metadata": {},
   "source": [
    "## Extract and Save Corpora"
   ]
  },
  {
   "cell_type": "code",
   "execution_count": 7,
   "metadata": {
    "collapsed": true
   },
   "outputs": [],
   "source": [
    "import os\n",
    "\n",
    "def verify_all_docs_written_to_file(source_df, filepath):\n",
    "    '''\n",
    "    provides printed verification that the number of documents \n",
    "    in the corpus text file matches total number of questions \n",
    "    or states depending on the grouping.\n",
    "    '''\n",
    "    \n",
    "    with codecs.open(filepath, encoding='utf_8') as f:\n",
    "        for actual, _ in enumerate(f):\n",
    "            pass\n",
    "        \n",
    "    expected = len(source_df)\n",
    "    actual += 1  # some count adjustment\n",
    "    if actual == len(source_df):\n",
    "        return ('All {} documents written to file, one per line.'\n",
    "                .format(actual))\n",
    "    else:\n",
    "        return ('Oops! Wrote {} lines to file instead of {}'\n",
    "                .format(actual, expected))   \n",
    "\n",
    "def extract_save_corpus(source_df, filepath, q_col='question'):\n",
    "    '''\n",
    "    extracts questions from a DataFrame into documents, \n",
    "    each document representing a single question or all \n",
    "    questions for a state, and saves corpus as text file.\n",
    "    '''\n",
    "    \n",
    "    with open(filepath, 'w') as f:\n",
    "        for q in source_df['question']:\n",
    "            q = q.replace('\\n', ' ')\n",
    "            q = q.replace('\\r', ' ')\n",
    "            f.write(q + '\\n')  # normalized to one line per document"
   ]
  },
  {
   "cell_type": "code",
   "execution_count": 8,
   "metadata": {
    "collapsed": false
   },
   "outputs": [
    {
     "name": "stdout",
     "output_type": "stream",
     "text": [
      "All 15863 documents written to file, one per line.\n"
     ]
    }
   ],
   "source": [
    "intermediate_directory = os.path.join('.', 'intermediate')\n",
    "submitters_questions_filepath = os.path.join(intermediate_directory,\n",
    "                                          'raw_questions.txt')\n",
    "\n",
    "extract_save_corpus(df, submitters_questions_filepath)\n",
    "print(verify_all_docs_written_to_file(df, submitters_questions_filepath))"
   ]
  },
  {
   "cell_type": "markdown",
   "metadata": {},
   "source": [
    "## Phrase Modeling"
   ]
  },
  {
   "cell_type": "code",
   "execution_count": 9,
   "metadata": {
    "collapsed": false
   },
   "outputs": [],
   "source": [
    "# Remove punctuation and lemmatize the text\n",
    "import spacy\n",
    "import pandas as pd\n",
    "\n",
    "nlp = spacy.load('en')\n",
    "\n",
    "unigram_questions_filepath = os.path.join(intermediate_directory,\n",
    "                                          'unigram_questions.txt')\n",
    "bigram_questions_filepath = os.path.join(intermediate_directory,\n",
    "                                         'bigram_questions.txt')\n",
    "trigram_questions_filepath = os.path.join(intermediate_directory,\n",
    "                                          'trigram_questions.txt')\n",
    "trigram_transformed_filepath = os.path.join(intermediate_directory,\n",
    "                                'trigram_transformed_questions.txt')"
   ]
  },
  {
   "cell_type": "code",
   "execution_count": 10,
   "metadata": {
    "collapsed": true
   },
   "outputs": [],
   "source": [
    "def punct_space(token):\n",
    "    '''\n",
    "    is the token pure punctuation or a space?\n",
    "    '''\n",
    "    \n",
    "    return token.is_punct or token.is_space\n",
    "\n",
    "def line_review(filepath):\n",
    "    \"\"\"\n",
    "    reads in questions from the file\n",
    "    and un-escape the original line breaks in the text\n",
    "    \"\"\"\n",
    "    \n",
    "    with codecs.open(filepath, encoding='utf_8') as f:\n",
    "        for question in f:\n",
    "            yield question\n",
    "            \n",
    "def lemmatized_questions(filepath):\n",
    "    \"\"\"\n",
    "    generator function to use spaCy to parse reviews,\n",
    "    lemmatize the text, and yield sentences\n",
    "    \"\"\"\n",
    "    \n",
    "    for parsed_question in nlp.pipe(line_review(filepath), n_threads=4):\n",
    "            yield u' '.join([token.lemma_ for token in parsed_question\n",
    "                             if not punct_space(token)])"
   ]
  },
  {
   "cell_type": "code",
   "execution_count": 11,
   "metadata": {
    "collapsed": false
   },
   "outputs": [
    {
     "name": "stdout",
     "output_type": "stream",
     "text": [
      "All 15863 documents written to file, one per line.\n"
     ]
    }
   ],
   "source": [
    "with open(unigram_questions_filepath, 'w') as f:\n",
    "    for question in lemmatized_questions(submitters_questions_filepath):\n",
    "        f.write(question + '\\n')\n",
    "\n",
    "print(verify_all_docs_written_to_file(df, unigram_questions_filepath))"
   ]
  },
  {
   "cell_type": "markdown",
   "metadata": {},
   "source": [
    "### Apply our first-order phrase model to join word pairs"
   ]
  },
  {
   "cell_type": "code",
   "execution_count": 12,
   "metadata": {
    "collapsed": false
   },
   "outputs": [
    {
     "name": "stdout",
     "output_type": "stream",
     "text": [
      "All 15863 documents written to file, one per line.\n"
     ]
    }
   ],
   "source": [
    "from gensim.models import Phrases\n",
    "from gensim.models.word2vec import LineSentence\n",
    "from gensim.corpora import Dictionary, MmCorpus\n",
    "from gensim.models.ldamulticore import LdaMulticore\n",
    "\n",
    "unigram_questions = LineSentence(unigram_questions_filepath, \n",
    "                                 max_sentence_length=100000)\n",
    "bigram_model = Phrases(unigram_questions)\n",
    "\n",
    "\n",
    "with open(bigram_questions_filepath, 'w', encoding='utf_8') as f:\n",
    "        \n",
    "    for unigram_question in unigram_questions:    \n",
    "        bigram_questions = u' '.join(bigram_model[unigram_question])\n",
    "        f.write(bigram_questions + '\\n')\n",
    "\n",
    "print(verify_all_docs_written_to_file(df, bigram_questions_filepath))    "
   ]
  },
  {
   "cell_type": "markdown",
   "metadata": {},
   "source": [
    "### Applying our second-order phrase model to join longer phrases"
   ]
  },
  {
   "cell_type": "code",
   "execution_count": 13,
   "metadata": {
    "collapsed": false
   },
   "outputs": [
    {
     "name": "stdout",
     "output_type": "stream",
     "text": [
      "All 15863 documents written to file, one per line.\n"
     ]
    }
   ],
   "source": [
    "bigram_questions = LineSentence(bigram_questions_filepath,\n",
    "                                max_sentence_length=100000)\n",
    "trigram_model = Phrases(bigram_questions)\n",
    "\n",
    "with codecs.open(trigram_questions_filepath, 'w') as f:\n",
    "        \n",
    "        for bigram_question in bigram_questions:\n",
    "            \n",
    "            trigram_question = u' '.join(trigram_model[bigram_question])\n",
    "            f.write(trigram_question + '\\n')\n",
    "\n",
    "print(verify_all_docs_written_to_file(df, trigram_questions_filepath))"
   ]
  },
  {
   "cell_type": "markdown",
   "metadata": {},
   "source": [
    "### Remove stopwords"
   ]
  },
  {
   "cell_type": "code",
   "execution_count": 14,
   "metadata": {
    "collapsed": false
   },
   "outputs": [
    {
     "name": "stdout",
     "output_type": "stream",
     "text": [
      "All 15863 documents written to file, one per line.\n"
     ]
    }
   ],
   "source": [
    "trigram_questions = LineSentence(trigram_questions_filepath,\n",
    "                                max_sentence_length=100000)\n",
    "\n",
    "with codecs.open(trigram_transformed_filepath, 'w', encoding='utf_8') as f:\n",
    "    for trigram_question in trigram_questions:\n",
    "\n",
    "        trigram_question = [term for term in trigram_question\n",
    "                            if term not in spacy.en.STOPWORDS]\n",
    "\n",
    "        # write the transformed review as a line in the new file\n",
    "        trigram_question = u' '.join(trigram_question)\n",
    "        f.write(trigram_question + '\\n')\n",
    "\n",
    "print(verify_all_docs_written_to_file(df, trigram_transformed_filepath))"
   ]
  },
  {
   "cell_type": "markdown",
   "metadata": {},
   "source": [
    "### Add final corpus to grouped-by states and submitters DataFrames"
   ]
  },
  {
   "cell_type": "code",
   "execution_count": 15,
   "metadata": {
    "collapsed": false
   },
   "outputs": [
    {
     "data": {
      "text/html": [
       "<div>\n",
       "<table border=\"1\" class=\"dataframe\">\n",
       "  <thead>\n",
       "    <tr style=\"text-align: right;\">\n",
       "      <th></th>\n",
       "      <th>issue_area</th>\n",
       "      <th>question</th>\n",
       "      <th>submission_date</th>\n",
       "      <th>submitter_location</th>\n",
       "      <th>submitters</th>\n",
       "      <th>vote_count</th>\n",
       "      <th>question_</th>\n",
       "    </tr>\n",
       "  </thead>\n",
       "  <tbody>\n",
       "    <tr>\n",
       "      <th>15858</th>\n",
       "      <td>Government &amp; Elections</td>\n",
       "      <td>Would you act to repeal citizens united?</td>\n",
       "      <td>2016-09-27 14:17:00</td>\n",
       "      <td>CA</td>\n",
       "      <td>Ken B.</td>\n",
       "      <td>44742</td>\n",
       "      <td>act repeal citizen unite\\n</td>\n",
       "    </tr>\n",
       "    <tr>\n",
       "      <th>15859</th>\n",
       "      <td>Environment</td>\n",
       "      <td>As president, What are the steps you will take...</td>\n",
       "      <td>2016-09-27 12:06:00</td>\n",
       "      <td>DC</td>\n",
       "      <td>Joseph M.</td>\n",
       "      <td>46470</td>\n",
       "      <td>as_president step address climate_change\\n</td>\n",
       "    </tr>\n",
       "    <tr>\n",
       "      <th>15860</th>\n",
       "      <td>Economy &amp; Jobs</td>\n",
       "      <td>Do you support expanding, and not cutting, Soc...</td>\n",
       "      <td>2016-09-28 11:07:00</td>\n",
       "      <td>NC</td>\n",
       "      <td>Ellen P.</td>\n",
       "      <td>46712</td>\n",
       "      <td>support expand cut social_security 's mod bene...</td>\n",
       "    </tr>\n",
       "    <tr>\n",
       "      <th>15861</th>\n",
       "      <td>Society &amp; Community</td>\n",
       "      <td>How will you ensure the 2nd amendment is prote...</td>\n",
       "      <td>2016-09-27 11:11:00</td>\n",
       "      <td>None</td>\n",
       "      <td>Tim S.</td>\n",
       "      <td>65586</td>\n",
       "      <td>ensure 2nd_amendment protect\\n</td>\n",
       "    </tr>\n",
       "    <tr>\n",
       "      <th>15862</th>\n",
       "      <td>Society &amp; Community</td>\n",
       "      <td>Would you support requiring criminal backgroun...</td>\n",
       "      <td>2016-09-28 21:32:00</td>\n",
       "      <td>CA</td>\n",
       "      <td>Richard M.</td>\n",
       "      <td>75617</td>\n",
       "      <td>support require criminal background_check gun_...</td>\n",
       "    </tr>\n",
       "  </tbody>\n",
       "</table>\n",
       "</div>"
      ],
      "text/plain": [
       "                   issue_area  \\\n",
       "15858  Government & Elections   \n",
       "15859             Environment   \n",
       "15860          Economy & Jobs   \n",
       "15861     Society & Community   \n",
       "15862     Society & Community   \n",
       "\n",
       "                                                question     submission_date  \\\n",
       "15858           Would you act to repeal citizens united? 2016-09-27 14:17:00   \n",
       "15859  As president, What are the steps you will take... 2016-09-27 12:06:00   \n",
       "15860  Do you support expanding, and not cutting, Soc... 2016-09-28 11:07:00   \n",
       "15861  How will you ensure the 2nd amendment is prote... 2016-09-27 11:11:00   \n",
       "15862  Would you support requiring criminal backgroun... 2016-09-28 21:32:00   \n",
       "\n",
       "      submitter_location  submitters  vote_count  \\\n",
       "15858                 CA      Ken B.       44742   \n",
       "15859                 DC   Joseph M.       46470   \n",
       "15860                 NC    Ellen P.       46712   \n",
       "15861               None      Tim S.       65586   \n",
       "15862                 CA  Richard M.       75617   \n",
       "\n",
       "                                               question_  \n",
       "15858                         act repeal citizen unite\\n  \n",
       "15859         as_president step address climate_change\\n  \n",
       "15860  support expand cut social_security 's mod bene...  \n",
       "15861                     ensure 2nd_amendment protect\\n  \n",
       "15862  support require criminal background_check gun_...  "
      ]
     },
     "metadata": {},
     "output_type": "display_data"
    },
    {
     "data": {
      "text/html": [
       "<div>\n",
       "<table border=\"1\" class=\"dataframe\">\n",
       "  <thead>\n",
       "    <tr style=\"text-align: right;\">\n",
       "      <th></th>\n",
       "      <th>adult_pop</th>\n",
       "      <th>partisanship</th>\n",
       "      <th>q_count</th>\n",
       "      <th>question</th>\n",
       "      <th>question_</th>\n",
       "    </tr>\n",
       "    <tr>\n",
       "      <th>state</th>\n",
       "      <th></th>\n",
       "      <th></th>\n",
       "      <th></th>\n",
       "      <th></th>\n",
       "      <th></th>\n",
       "    </tr>\n",
       "  </thead>\n",
       "  <tbody>\n",
       "    <tr>\n",
       "      <th>WV</th>\n",
       "      <td>1464532</td>\n",
       "      <td>R</td>\n",
       "      <td>43.0</td>\n",
       "      <td>How open is either Candidate to Decriminalizin...</td>\n",
       "      <td>open either_candidate decriminalizing cannabis...</td>\n",
       "    </tr>\n",
       "    <tr>\n",
       "      <th>WI</th>\n",
       "      <td>4476711</td>\n",
       "      <td>S</td>\n",
       "      <td>245.0</td>\n",
       "      <td>How will your education agenda prepare student...</td>\n",
       "      <td>education agenda prepare student global societ...</td>\n",
       "    </tr>\n",
       "    <tr>\n",
       "      <th>WY</th>\n",
       "      <td>447212</td>\n",
       "      <td>R</td>\n",
       "      <td>60.0</td>\n",
       "      <td>Will you raise minimum raise to 50$\\n Is the c...</td>\n",
       "      <td>raise minimum raise 50 $ \\n current equivocati...</td>\n",
       "    </tr>\n",
       "    <tr>\n",
       "      <th>PR</th>\n",
       "      <td>2736791</td>\n",
       "      <td></td>\n",
       "      <td>9.0</td>\n",
       "      <td>If not elected, will you continue to  fight fo...</td>\n",
       "      <td>elect continue fight campaign promises/plan \\n...</td>\n",
       "    </tr>\n",
       "    <tr>\n",
       "      <th>None</th>\n",
       "      <td>NaN</td>\n",
       "      <td>NaN</td>\n",
       "      <td>NaN</td>\n",
       "      <td>What will your policy be toward Afghanistant i...</td>\n",
       "      <td>your_policy afghanistant if_elect term militar...</td>\n",
       "    </tr>\n",
       "  </tbody>\n",
       "</table>\n",
       "</div>"
      ],
      "text/plain": [
       "      adult_pop partisanship  q_count  \\\n",
       "state                                   \n",
       "WV      1464532            R     43.0   \n",
       "WI      4476711            S    245.0   \n",
       "WY       447212            R     60.0   \n",
       "PR      2736791                   9.0   \n",
       "None        NaN          NaN      NaN   \n",
       "\n",
       "                                                question  \\\n",
       "state                                                      \n",
       "WV     How open is either Candidate to Decriminalizin...   \n",
       "WI     How will your education agenda prepare student...   \n",
       "WY     Will you raise minimum raise to 50$\\n Is the c...   \n",
       "PR     If not elected, will you continue to  fight fo...   \n",
       "None   What will your policy be toward Afghanistant i...   \n",
       "\n",
       "                                               question_  \n",
       "state                                                     \n",
       "WV     open either_candidate decriminalizing cannabis...  \n",
       "WI     education agenda prepare student global societ...  \n",
       "WY     raise minimum raise 50 $ \\n current equivocati...  \n",
       "PR     elect continue fight campaign promises/plan \\n...  \n",
       "None   your_policy afghanistant if_elect term militar...  "
      ]
     },
     "metadata": {},
     "output_type": "display_data"
    },
    {
     "data": {
      "text/plain": [
       "'All 53 documents written to file, one per line.'"
      ]
     },
     "execution_count": 15,
     "metadata": {},
     "output_type": "execute_result"
    }
   ],
   "source": [
    "trigram_transformed = line_review(trigram_transformed_filepath)\n",
    "processed_questions = pd.Series(trigram_transformed, name='question_')\n",
    "\n",
    "# unless already done, add processed questions as new column\n",
    "if 'question_' not in df.columns:\n",
    "    df = df.join(processed_questions)\n",
    "\n",
    "display(df.tail())\n",
    "\n",
    "if 'question_' not in df_states.columns:\n",
    "    df_states = df_states.join(\n",
    "        combine_qs_for_states(df, list(df_states.index), q_col='question_'))\n",
    "\n",
    "display(df_states.tail())\n",
    "\n",
    "# save transformed questions by state, in addition to by submitter done above\n",
    "trigram_by_state_filepath = os.path.join(intermediate_directory,\n",
    "                                         'trigram_transformed_by_state.txt')\n",
    "\n",
    "extract_save_corpus(df_states, trigram_by_state_filepath, q_col='question_')\n",
    "print(verify_all_docs_written_to_file(df_states, trigram_by_state_filepath))"
   ]
  },
  {
   "cell_type": "markdown",
   "metadata": {},
   "source": [
    "## Export DataFrames"
   ]
  },
  {
   "cell_type": "markdown",
   "metadata": {},
   "source": [
    "Exports can be loaded into a DataFrame with:\n",
    "```python\n",
    "pd.read_csv(filepath, index_col=0)\n",
    "```"
   ]
  },
  {
   "cell_type": "code",
   "execution_count": 16,
   "metadata": {
    "collapsed": true
   },
   "outputs": [],
   "source": [
    "export_directory = './exported'\n",
    "questions_by_submitter_df_export = os.path.join(export_directory,\n",
    "                                    'questions_by_submitter_df_export.txt')\n",
    "\n",
    "df.to_csv(questions_by_submitter_df_export)\n",
    "\n",
    "questions_by_state_df_export = os.path.join(export_directory,\n",
    "                                      'questions_by_state_df_export.txt')\n",
    "\n",
    "df_states.to_csv(questions_by_state_df_export)"
   ]
  },
  {
   "cell_type": "markdown",
   "metadata": {},
   "source": [
    "## Topic Modeling with Latent Dirichlet Allocation (LDA)"
   ]
  },
  {
   "cell_type": "markdown",
   "metadata": {},
   "source": [
    "### Parameters to tweak for LDA"
   ]
  },
  {
   "cell_type": "code",
   "execution_count": 17,
   "metadata": {
    "collapsed": true
   },
   "outputs": [],
   "source": [
    "# for per question\n",
    "NUM_TOPICS = 15\n",
    "FILTER_BELOW = 2  # int for count, float for fraction of corpus size\n",
    "FILTER_ABOVE = 1.  # int for count, float for fraction of corpus size\n",
    "\n",
    "# for per state, needs model setup to be changed\n",
    "# NUM_TOPICS = 4\n",
    "# FILTER_BELOW = 3  # int for count, float for fraction of corpus size\n",
    "# FILTER_ABOVE = .2  # int for count, float for fraction of corpus size"
   ]
  },
  {
   "cell_type": "markdown",
   "metadata": {},
   "source": [
    "### Create a bag-of-words representation"
   ]
  },
  {
   "cell_type": "code",
   "execution_count": 18,
   "metadata": {
    "collapsed": false
   },
   "outputs": [],
   "source": [
    "trigram_transformed_questions = LineSentence(  # feeds array of unicode tokens\n",
    "                                trigram_transformed_filepath,\n",
    "                                max_sentence_length=100000)\n",
    "trigram_dictionary_filepath = os.path.join(intermediate_directory,\n",
    "                                           'trigram_dict_all.dict')\n",
    "\n",
    "# learn the dictionary by iterating over all of the reviews\n",
    "trigram_dictionary = Dictionary(trigram_transformed_questions)\n",
    "\n",
    "# filter tokens that are very rare or too common\n",
    "trigram_dictionary.filter_extremes(no_below=FILTER_BELOW,\n",
    "                                   no_above=FILTER_ABOVE)\n",
    "trigram_dictionary.filter_n_most_frequent(10)\n",
    "trigram_dictionary.compactify()  # reassign int ids"
   ]
  },
  {
   "cell_type": "code",
   "execution_count": 19,
   "metadata": {
    "collapsed": false
   },
   "outputs": [],
   "source": [
    "trigram_bow_filepath = os.path.join(intermediate_directory,\n",
    "                                    'trigram_bow_corpus_all.mm')\n",
    "\n",
    "def trigram_bow_generator(filepath):\n",
    "    \"\"\"\n",
    "    generator function to read questions from a file\n",
    "    and yield a bag-of-words representation\n",
    "    \"\"\"\n",
    "    \n",
    "    for question in LineSentence(filepath, max_sentence_length=100000):\n",
    "        yield trigram_dictionary.doc2bow(question)\n",
    "        \n",
    "# generate bag-of-words representations for\n",
    "# all reviews and save them as a matrix\n",
    "MmCorpus.serialize(trigram_bow_filepath,\n",
    "                   trigram_bow_generator(trigram_questions_filepath))\n",
    "    \n",
    "# load the finished bag-of-words corpus from disk\n",
    "trigram_bow_corpus = MmCorpus(trigram_bow_filepath)"
   ]
  },
  {
   "cell_type": "markdown",
   "metadata": {},
   "source": [
    "### Implement LDA topic modeling"
   ]
  },
  {
   "cell_type": "code",
   "execution_count": 20,
   "metadata": {
    "collapsed": false
   },
   "outputs": [
    {
     "name": "stderr",
     "output_type": "stream",
     "text": [
      "/Users/mdlynch37/anaconda3/envs/py3/lib/python3.5/site-packages/funcy/decorators.py:56: DeprecationWarning: inspect.getargspec() is deprecated, use inspect.signature() instead\n",
      "  spec = inspect.getargspec(func)\n",
      "/Users/mdlynch37/anaconda3/envs/py3/lib/python3.5/site-packages/funcy/decorators.py:56: DeprecationWarning: inspect.getargspec() is deprecated, use inspect.signature() instead\n",
      "  spec = inspect.getargspec(func)\n",
      "/Users/mdlynch37/anaconda3/envs/py3/lib/python3.5/site-packages/funcy/decorators.py:56: DeprecationWarning: inspect.getargspec() is deprecated, use inspect.signature() instead\n",
      "  spec = inspect.getargspec(func)\n",
      "/Users/mdlynch37/anaconda3/envs/py3/lib/python3.5/site-packages/funcy/decorators.py:56: DeprecationWarning: inspect.getargspec() is deprecated, use inspect.signature() instead\n",
      "  spec = inspect.getargspec(func)\n",
      "/Users/mdlynch37/anaconda3/envs/py3/lib/python3.5/site-packages/funcy/decorators.py:56: DeprecationWarning: inspect.getargspec() is deprecated, use inspect.signature() instead\n",
      "  spec = inspect.getargspec(func)\n",
      "/Users/mdlynch37/anaconda3/envs/py3/lib/python3.5/site-packages/funcy/decorators.py:56: DeprecationWarning: inspect.getargspec() is deprecated, use inspect.signature() instead\n",
      "  spec = inspect.getargspec(func)\n"
     ]
    }
   ],
   "source": [
    "import pyLDAvis\n",
    "import pyLDAvis.gensim\n",
    "import warnings\n",
    "import pickle\n",
    "\n",
    "lda_model_filepath = os.path.join(intermediate_directory, 'lda_model_all')\n",
    "\n",
    "with warnings.catch_warnings():\n",
    "    warnings.filterwarnings('ignore', category=DeprecationWarning)\n",
    "    # workers => sets the parallelism, and should be\n",
    "    # set to your number of physical cores minus one\n",
    "    lda = LdaMulticore(trigram_bow_corpus,\n",
    "                       num_topics=NUM_TOPICS,\n",
    "                       id2word=trigram_dictionary,\n",
    "                       workers=3,\n",
    "                       random_state=42)"
   ]
  },
  {
   "cell_type": "code",
   "execution_count": 21,
   "metadata": {
    "collapsed": false
   },
   "outputs": [],
   "source": [
    "def explore_topic(topic_number, topn=10):\n",
    "    \"\"\"\n",
    "    accept a user-supplied topic number and\n",
    "    print out a formatted list of the top terms\n",
    "    \"\"\"\n",
    "        \n",
    "    print(u'{:20} {}'.format(u'term', u'frequency') + u'\\n')\n",
    "\n",
    "    for term, frequency in lda.show_topic(topic_number, topn=topn):\n",
    "        print(u'{:20} {:.3f}'.format(term, round(frequency, 3)))"
   ]
  },
  {
   "cell_type": "code",
   "execution_count": 22,
   "metadata": {
    "collapsed": false
   },
   "outputs": [
    {
     "name": "stdout",
     "output_type": "stream",
     "text": [
      "term                 frequency\n",
      "\n",
      "pay                  0.012\n",
      "climate_change       0.010\n",
      "congress             0.009\n",
      "president            0.007\n",
      "federal              0.007\n",
      "should_we            0.007\n",
      "end                  0.006\n",
      "public               0.006\n",
      "ensure               0.005\n",
      "supreme_court        0.005\n"
     ]
    }
   ],
   "source": [
    "explore_topic(topic_number=3)"
   ]
  },
  {
   "cell_type": "code",
   "execution_count": 23,
   "metadata": {
    "collapsed": false
   },
   "outputs": [],
   "source": [
    "def generate_document_topics(lda, filepath):\n",
    "    for doc in trigram_bow_generator(filepath):\n",
    "        yield lda.get_document_topics(doc, minimum_probability=.1)"
   ]
  },
  {
   "cell_type": "code",
   "execution_count": 38,
   "metadata": {
    "collapsed": false
   },
   "outputs": [
    {
     "data": {
      "text/html": [
       "<div>\n",
       "<table border=\"1\" class=\"dataframe\">\n",
       "  <thead>\n",
       "    <tr style=\"text-align: right;\">\n",
       "      <th></th>\n",
       "      <th>adult_pop</th>\n",
       "      <th>partisanship</th>\n",
       "      <th>q_count</th>\n",
       "      <th>question</th>\n",
       "      <th>question_</th>\n",
       "      <th>1</th>\n",
       "      <th>2</th>\n",
       "    </tr>\n",
       "    <tr>\n",
       "      <th>state</th>\n",
       "      <th></th>\n",
       "      <th></th>\n",
       "      <th></th>\n",
       "      <th></th>\n",
       "      <th></th>\n",
       "      <th></th>\n",
       "      <th></th>\n",
       "    </tr>\n",
       "  </thead>\n",
       "  <tbody>\n",
       "    <tr>\n",
       "      <th>MN</th>\n",
       "      <td>4205207</td>\n",
       "      <td>D</td>\n",
       "      <td>266.0</td>\n",
       "      <td>How do you feel about the bill letting familie...</td>\n",
       "      <td>feel_about let family sue saudi_arabia \\n plea...</td>\n",
       "      <td>(9, 0.121773913095)</td>\n",
       "      <td>None</td>\n",
       "    </tr>\n",
       "    <tr>\n",
       "      <th>CA</th>\n",
       "      <td>30023902</td>\n",
       "      <td>D</td>\n",
       "      <td>2123.0</td>\n",
       "      <td>How will you help transgender students \\n Wher...</td>\n",
       "      <td>help transgender student \\n stand_on genetical...</td>\n",
       "      <td>None</td>\n",
       "      <td>None</td>\n",
       "    </tr>\n",
       "    <tr>\n",
       "      <th>CT</th>\n",
       "      <td>2826827</td>\n",
       "      <td>D</td>\n",
       "      <td>202.0</td>\n",
       "      <td>What, if anything, do you plan to do to ensure...</td>\n",
       "      <td>if_anything plan ensure happen \\n support citi...</td>\n",
       "      <td>(5, 0.128441723951)</td>\n",
       "      <td>(9, 0.137504863623)</td>\n",
       "    </tr>\n",
       "    <tr>\n",
       "      <th>DC</th>\n",
       "      <td>554121</td>\n",
       "      <td>D</td>\n",
       "      <td>163.0</td>\n",
       "      <td>Whyhasn't there been  discussion about reducti...</td>\n",
       "      <td>whyhasn't discussion reduction manuf job techn...</td>\n",
       "      <td>(9, 0.136881486665)</td>\n",
       "      <td>(11, 0.106669705429)</td>\n",
       "    </tr>\n",
       "    <tr>\n",
       "      <th>OR</th>\n",
       "      <td>3166121</td>\n",
       "      <td>D</td>\n",
       "      <td>317.0</td>\n",
       "      <td>How do you feel about tax fraud?\\n As a Master...</td>\n",
       "      <td>feel_about tax fraud \\n master 's student spec...</td>\n",
       "      <td>(6, 0.17752351908)</td>\n",
       "      <td>(9, 0.12083599517)</td>\n",
       "    </tr>\n",
       "  </tbody>\n",
       "</table>\n",
       "</div>"
      ],
      "text/plain": [
       "      adult_pop partisanship  q_count  \\\n",
       "state                                   \n",
       "MN      4205207            D    266.0   \n",
       "CA     30023902            D   2123.0   \n",
       "CT      2826827            D    202.0   \n",
       "DC       554121            D    163.0   \n",
       "OR      3166121            D    317.0   \n",
       "\n",
       "                                                question  \\\n",
       "state                                                      \n",
       "MN     How do you feel about the bill letting familie...   \n",
       "CA     How will you help transgender students \\n Wher...   \n",
       "CT     What, if anything, do you plan to do to ensure...   \n",
       "DC     Whyhasn't there been  discussion about reducti...   \n",
       "OR     How do you feel about tax fraud?\\n As a Master...   \n",
       "\n",
       "                                               question_                    1  \\\n",
       "state                                                                           \n",
       "MN     feel_about let family sue saudi_arabia \\n plea...  (9, 0.121773913095)   \n",
       "CA     help transgender student \\n stand_on genetical...                 None   \n",
       "CT     if_anything plan ensure happen \\n support citi...  (5, 0.128441723951)   \n",
       "DC     whyhasn't discussion reduction manuf job techn...  (9, 0.136881486665)   \n",
       "OR     feel_about tax fraud \\n master 's student spec...   (6, 0.17752351908)   \n",
       "\n",
       "                          2  \n",
       "state                        \n",
       "MN                     None  \n",
       "CA                     None  \n",
       "CT      (9, 0.137504863623)  \n",
       "DC     (11, 0.106669705429)  \n",
       "OR       (9, 0.12083599517)  "
      ]
     },
     "execution_count": 38,
     "metadata": {},
     "output_type": "execute_result"
    }
   ],
   "source": [
    "enough_questions = df_states['q_count'] > 150\n",
    "\n",
    "p = pd.DataFrame(generate_document_topics(lda, trigram_by_state_filepath), \n",
    "                 index=list(df_states.index))\n",
    "\n",
    "df_states_t = df_states.join(p[[1,2]])\n",
    "df_states_t[enough_questions].sort_values('partisanship').head()"
   ]
  },
  {
   "cell_type": "markdown",
   "metadata": {},
   "source": [
    "## Visualzing topics with pyLDAviz\n",
    "For guide to what it means, see [documentation](https://pyldavis.readthedocs.io/en/latest/readme.html) or [video](https://youtu.be/tGxW2BzC_DU?t=2m55s)"
   ]
  },
  {
   "cell_type": "code",
   "execution_count": null,
   "metadata": {
    "collapsed": false
   },
   "outputs": [],
   "source": [
    "LDAvis_data_filepath = os.path.join(intermediate_directory, 'ldavis_prepared')\n",
    "\n",
    "LDAvis_prepared = pyLDAvis.gensim.prepare(lda, trigram_bow_corpus,\n",
    "                                          trigram_dictionary)"
   ]
  },
  {
   "cell_type": "code",
   "execution_count": null,
   "metadata": {
    "collapsed": false
   },
   "outputs": [],
   "source": [
    "pyLDAvis.display(LDAvis_prepared)"
   ]
  }
 ],
 "metadata": {
  "anaconda-cloud": {},
  "kernelspec": {
   "display_name": "Python [default]",
   "language": "python",
   "name": "python3"
  },
  "language_info": {
   "codemirror_mode": {
    "name": "ipython",
    "version": 3
   },
   "file_extension": ".py",
   "mimetype": "text/x-python",
   "name": "python",
   "nbconvert_exporter": "python",
   "pygments_lexer": "ipython3",
   "version": "3.5.2"
  },
  "nav_menu": {},
  "toc": {
   "navigate_menu": true,
   "number_sections": true,
   "sideBar": true,
   "threshold": 6,
   "toc_cell": true,
   "toc_section_display": "block",
   "toc_window_display": false
  }
 },
 "nbformat": 4,
 "nbformat_minor": 1
}
